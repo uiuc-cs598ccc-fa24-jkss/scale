{
 "cells": [
  {
   "cell_type": "markdown",
   "metadata": {},
   "source": [
    "# How to start the `otel-demo` (Online Boutique) and `scale` monitoring tools"
   ]
  },
  {
   "cell_type": "markdown",
   "metadata": {},
   "source": [
    "## Prerequisites\n",
    "\n",
    "* `minikube` is started with at least 6g of memory"
   ]
  },
  {
   "cell_type": "code",
   "execution_count": null,
   "metadata": {
    "vscode": {
     "languageId": "shellscript"
    }
   },
   "outputs": [],
   "source": [
    "%%bash\n",
    "\n",
    "minikube start --memory=6g"
   ]
  },
  {
   "cell_type": "markdown",
   "metadata": {},
   "source": [
    "## Installing"
   ]
  },
  {
   "cell_type": "markdown",
   "metadata": {},
   "source": [
    "1. Start the `otel-demo` with helm\n",
    "\n",
    "* Note - we also need to provide overrides to point to our otel-collector"
   ]
  },
  {
   "cell_type": "code",
   "execution_count": 1,
   "metadata": {
    "vscode": {
     "languageId": "shellscript"
    }
   },
   "outputs": [
    {
     "name": "stdout",
     "output_type": "stream",
     "text": [
      "NAME: otel-demo\n",
      "LAST DEPLOYED: Wed Oct 23 21:09:59 2024\n",
      "NAMESPACE: demo\n",
      "STATUS: deployed\n",
      "REVISION: 1\n",
      "NOTES:\n",
      "=======================================================================================\n",
      "\n",
      "\n",
      " ██████╗ ████████╗███████╗██╗         ██████╗ ███████╗███╗   ███╗ ██████╗\n",
      "██╔═══██╗╚══██╔══╝██╔════╝██║         ██╔══██╗██╔════╝████╗ ████║██╔═══██╗\n",
      "██║   ██║   ██║   █████╗  ██║         ██║  ██║█████╗  ██╔████╔██║██║   ██║\n",
      "██║   ██║   ██║   ██╔══╝  ██║         ██║  ██║██╔══╝  ██║╚██╔╝██║██║   ██║\n",
      "╚██████╔╝   ██║   ███████╗███████╗    ██████╔╝███████╗██║ ╚═╝ ██║╚██████╔╝\n",
      " ╚═════╝    ╚═╝   ╚══════╝╚══════╝    ╚═════╝ ╚══════╝╚═╝     ╚═╝ ╚═════╝\n",
      "\n",
      "\n",
      "- All services are available via the Frontend proxy: http://localhost:8080\n",
      "  by running these commands:\n",
      "     kubectl --namespace demo port-forward svc/otel-demo-frontendproxy 8080:8080\n",
      "\n",
      "  The following services are available at these paths once the proxy is exposed:\n",
      "  Webstore             http://localhost:8080/\n",
      "  Grafana              http://localhost:8080/grafana/\n",
      "  Load Generator UI    http://localhost:8080/loadgen/\n",
      "  Jaeger UI            http://localhost:8080/jaeger/ui/\n"
     ]
    }
   ],
   "source": [
    "%%bash\n",
    "\n",
    "cd ../../test-clusters/otel-demo\n",
    "helm install otel-demo open-telemetry/opentelemetry-demo -f overrides.yaml --namespace demo --create-namespace"
   ]
  },
  {
   "cell_type": "markdown",
   "metadata": {},
   "source": [
    "2. Start the scale stack with helm"
   ]
  },
  {
   "cell_type": "code",
   "execution_count": 3,
   "metadata": {
    "vscode": {
     "languageId": "shellscript"
    }
   },
   "outputs": [
    {
     "name": "stdout",
     "output_type": "stream",
     "text": [
      "NAME: scale\n",
      "LAST DEPLOYED: Wed Oct 23 21:10:29 2024\n",
      "NAMESPACE: monitoring\n",
      "STATUS: deployed\n",
      "REVISION: 1\n",
      "TEST SUITE: None\n"
     ]
    }
   ],
   "source": [
    "%%bash\n",
    "\n",
    "cd ../../charts\n",
    "helm install scale ./scale-full --namespace monitoring --create-namespace"
   ]
  },
  {
   "cell_type": "markdown",
   "metadata": {},
   "source": [
    "## Uninstalling"
   ]
  },
  {
   "cell_type": "markdown",
   "metadata": {},
   "source": [
    "1. Uninstall the `otel-demo` release"
   ]
  },
  {
   "cell_type": "code",
   "execution_count": null,
   "metadata": {
    "vscode": {
     "languageId": "shellscript"
    }
   },
   "outputs": [],
   "source": [
    "%%bash\n",
    "\n",
    "helm uninstall otel-demo --namespace demo"
   ]
  },
  {
   "cell_type": "markdown",
   "metadata": {},
   "source": [
    "2. Uninstall the `scale` release"
   ]
  },
  {
   "cell_type": "code",
   "execution_count": null,
   "metadata": {
    "vscode": {
     "languageId": "shellscript"
    }
   },
   "outputs": [],
   "source": [
    "%%bash\n",
    "\n",
    "helm uninstall scale -n monitoring"
   ]
  }
 ],
 "metadata": {
  "kernelspec": {
   "display_name": "cli",
   "language": "python",
   "name": "python3"
  },
  "language_info": {
   "codemirror_mode": {
    "name": "ipython",
    "version": 3
   },
   "file_extension": ".py",
   "mimetype": "text/x-python",
   "name": "python",
   "nbconvert_exporter": "python",
   "pygments_lexer": "ipython3",
   "version": "3.12.5"
  }
 },
 "nbformat": 4,
 "nbformat_minor": 2
}

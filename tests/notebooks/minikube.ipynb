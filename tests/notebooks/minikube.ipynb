{
 "cells": [
  {
   "cell_type": "markdown",
   "metadata": {},
   "source": [
    "# Minikube setup\n",
    "\n",
    "Prerequites\n",
    "1. `minikube` and `kubectl` are installed\n",
    "2. The [necessary packages](../requirements.txt) are installed in the enviornment that this notebook is running in."
   ]
  },
  {
   "cell_type": "markdown",
   "metadata": {},
   "source": [
    "## Start minikube if not already running"
   ]
  },
  {
   "cell_type": "code",
   "execution_count": 1,
   "metadata": {
    "vscode": {
     "languageId": "shellscript"
    }
   },
   "outputs": [
    {
     "name": "stdout",
     "output_type": "stream",
     "text": [
      "minikube\n",
      "type: Control Plane\n",
      "host: Running\n",
      "kubelet: Running\n",
      "apiserver: Running\n",
      "kubeconfig: Configured\n",
      "\n"
     ]
    }
   ],
   "source": [
    "!minikube status\n",
    "\n",
    "#!minikube start"
   ]
  },
  {
   "cell_type": "markdown",
   "metadata": {},
   "source": [
    "## Check for currently running pods"
   ]
  },
  {
   "cell_type": "code",
   "execution_count": 2,
   "metadata": {
    "vscode": {
     "languageId": "shellscript"
    }
   },
   "outputs": [
    {
     "name": "stdout",
     "output_type": "stream",
     "text": [
      "NAME                              READY   STATUS    RESTARTS      AGE\n",
      "grafana-58c6666fc5-spzvr          1/1     Running   7 (87m ago)   157m\n",
      "otel-collector-6595d959cf-blv7r   1/1     Running   7 (87m ago)   157m\n",
      "tempo-859dbfff85-vx7z6            1/1     Running   7 (87m ago)   157m\n",
      "tlm-service-6c694ddc7c-p8qwh      1/1     Running   7 (87m ago)   157m\n"
     ]
    }
   ],
   "source": [
    "!kubectl get pods -n cash-flow"
   ]
  },
  {
   "cell_type": "markdown",
   "metadata": {},
   "source": [
    "## Managing the `cash-flow` cluster\n",
    "\n",
    "### Start the `cash-flow` cluster"
   ]
  },
  {
   "cell_type": "code",
   "execution_count": 3,
   "metadata": {
    "vscode": {
     "languageId": "shellscript"
    }
   },
   "outputs": [
    {
     "name": "stdout",
     "output_type": "stream",
     "text": [
      "Building config maps and secrets...\n",
      "~/dev/cs598-project/test-clusters/cash-flow/k8s ~/dev/cs598-project/test-clusters/cash-flow\n",
      "filter_func: b64encode\n",
      "Generating YAML for auth...\n",
      "YAML generated and saved to auth/auth-secret.yaml\n",
      "Generating YAML for auth...\n",
      "YAML generated and saved to auth/auth-config.yaml\n",
      "Generating YAML for celery...\n",
      "YAML generated and saved to celery/celery-config.yaml\n",
      "filter_func: b64encode\n",
      "Generating YAML for dms...\n",
      "YAML generated and saved to dms/dms-secret.yaml\n",
      "Generating YAML for dms...\n",
      "YAML generated and saved to dms/dms-config.yaml\n",
      "Generating YAML for registration...\n",
      "YAML generated and saved to registration/registration-config.yaml\n",
      "Generating YAML for tasking...\n",
      "YAML generated and saved to tasking/tasking-config.yaml\n",
      "Generating YAML for transaction...\n",
      "YAML generated and saved to transaction/transaction-config.yaml\n",
      "filter_func: b64encode\n",
      "Generating YAML for tx-db...\n",
      "YAML generated and saved to tx-db/tx-db-secret.yaml\n",
      "Generating YAML for tx-db...\n",
      "YAML generated and saved to tx-db/tx-db-config.yaml\n",
      "filter_func: b64encode\n",
      "Generating YAML for user-db...\n",
      "YAML generated and saved to user-db/user-db-secret.yaml\n",
      "Generating YAML for user-db...\n",
      "YAML generated and saved to user-db/user-db-config.yaml\n",
      "Starting the application.....\n",
      "namespace/cash-flow unchanged\n",
      "configmap/user-db-config created\n",
      "secret/user-db-secret created\n",
      "persistentvolume/user-db-pv created\n",
      "persistentvolumeclaim/user-db-pvc created\n",
      "deployment.apps/user-db-dep created\n",
      "service/user-db created\n",
      "configmap/tx-db-config created\n",
      "secret/tx-db-secret created\n",
      "persistentvolume/tx-db-pv created\n",
      "persistentvolumeclaim/tx-db-pvc created\n",
      "deployment.apps/tx-db-dep created\n",
      "service/tx-db created\n",
      "configmap/celery-config unchanged\n",
      "deployment.apps/celery-worker created\n",
      "horizontalpodautoscaler.autoscaling/celery-worker-hpa created\n",
      "deployment.apps/redis created\n",
      "service/redis created\n",
      "configmap/auth-config created\n",
      "secret/auth-secret created\n",
      "deployment.apps/auth created\n",
      "service/auth created\n",
      "configmap/dms-config created\n",
      "secret/dms-secret created\n",
      "deployment.apps/dms created\n",
      "horizontalpodautoscaler.autoscaling/dms-hpa created\n",
      "service/dms created\n",
      "configmap/registration-config created\n",
      "deployment.apps/registration created\n",
      "horizontalpodautoscaler.autoscaling/registration-hpa created\n",
      "service/registration created\n",
      "configmap/tasking-config created\n",
      "deployment.apps/tasking created\n",
      "horizontalpodautoscaler.autoscaling/tasking-hpa created\n",
      "service/tasking created\n",
      "configmap/transaction-config created\n",
      "deployment.apps/transaction created\n",
      "horizontalpodautoscaler.autoscaling/transaction-hpa created\n",
      "service/transaction created\n",
      "deployment.apps/notification created\n",
      "horizontalpodautoscaler.autoscaling/notification-hpa created\n",
      "service/notification created\n",
      "~/dev/cs598-project/test-clusters/cash-flow\n",
      "Application started.\n"
     ]
    }
   ],
   "source": [
    "!pushd ../../test-clusters/cash-flow/ && ./k8s_manage.sh start && popd"
   ]
  },
  {
   "cell_type": "markdown",
   "metadata": {},
   "source": [
    "### Stopping the cash-flow cluster"
   ]
  },
  {
   "cell_type": "code",
   "execution_count": 4,
   "metadata": {
    "vscode": {
     "languageId": "shellscript"
    }
   },
   "outputs": [],
   "source": [
    "# !pushd ../../test-clusters/cash-flow/ && ./k8s_manage.sh stop && popd"
   ]
  },
  {
   "cell_type": "markdown",
   "metadata": {},
   "source": [
    "### Wait for the pods to start"
   ]
  },
  {
   "cell_type": "code",
   "execution_count": 5,
   "metadata": {
    "vscode": {
     "languageId": "shellscript"
    }
   },
   "outputs": [
    {
     "name": "stdout",
     "output_type": "stream",
     "text": [
      "pod/auth-5fd84d4f95-kfj55 condition met\n",
      "pod/celery-worker-7c98bc497f-mh2dc condition met\n",
      "pod/dms-57946db4f6-4l7dt condition met\n",
      "pod/grafana-58c6666fc5-spzvr condition met\n",
      "pod/notification-54898b9b49-bhl8x condition met\n",
      "pod/otel-collector-6595d959cf-blv7r condition met\n",
      "pod/redis-6664db5d7c-nrrww condition met\n",
      "pod/registration-677864c8bf-ssxrv condition met\n",
      "pod/tasking-5c96756555-qpljm condition met\n",
      "pod/tempo-859dbfff85-vx7z6 condition met\n",
      "pod/tlm-service-6c694ddc7c-p8qwh condition met\n",
      "pod/transaction-647c77f96f-djf2k condition met\n",
      "pod/tx-db-dep-5cb5b7b4d6-5zsgr condition met\n",
      "pod/user-db-dep-76f5ff8cc7-j7k9j condition met\n"
     ]
    }
   ],
   "source": [
    "!kubectl wait --for=condition=Ready pods --all --timeout=300s -n cash-flow\n"
   ]
  },
  {
   "cell_type": "markdown",
   "metadata": {},
   "source": [
    "## Managing the monitoring tools\n",
    "\n",
    "### Start the monitoring tools in the cash-flow namespace"
   ]
  },
  {
   "cell_type": "code",
   "execution_count": 6,
   "metadata": {
    "vscode": {
     "languageId": "shellscript"
    }
   },
   "outputs": [
    {
     "name": "stdout",
     "output_type": "stream",
     "text": [
      "Using existing namespace: cash-flow\n",
      "Starting deployments...\n",
      "deployment.apps/tlm-service unchanged\n",
      "service/tlm-service unchanged\n",
      "configmap/otel-collector-config unchanged\n",
      "configmap/tempo-config unchanged\n",
      "configmap/grafana-config unchanged\n",
      "deployment.apps/tempo unchanged\n",
      "persistentvolumeclaim/tempo-pvc unchanged\n",
      "service/tempo unchanged\n",
      "deployment.apps/grafana unchanged\n",
      "persistentvolumeclaim/grafana-pvc unchanged\n",
      "service/grafana unchanged\n",
      "deployment.apps/otel-collector unchanged\n",
      "service/otel-collector unchanged\n",
      "Waiting for pods to be ready...\n",
      "pod/auth-5fd84d4f95-kfj55 condition met\n",
      "pod/celery-worker-7c98bc497f-mh2dc condition met\n",
      "pod/dms-57946db4f6-4l7dt condition met\n",
      "pod/grafana-58c6666fc5-spzvr condition met\n",
      "pod/notification-54898b9b49-bhl8x condition met\n",
      "pod/otel-collector-6595d959cf-blv7r condition met\n",
      "pod/redis-6664db5d7c-nrrww condition met\n",
      "pod/registration-677864c8bf-ssxrv condition met\n",
      "pod/tasking-5c96756555-qpljm condition met\n",
      "pod/tempo-859dbfff85-vx7z6 condition met\n",
      "pod/tlm-service-6c694ddc7c-p8qwh condition met\n",
      "pod/transaction-647c77f96f-djf2k condition met\n",
      "pod/tx-db-dep-5cb5b7b4d6-5zsgr condition met\n",
      "pod/user-db-dep-76f5ff8cc7-j7k9j condition met\n"
     ]
    }
   ],
   "source": [
    "!pushd ../../k8s && ./manage.sh start -n cash-flow && popd"
   ]
  },
  {
   "cell_type": "markdown",
   "metadata": {},
   "source": [
    "### Stopping the monitoring tools in the cash-flow namespace"
   ]
  },
  {
   "cell_type": "code",
   "execution_count": 7,
   "metadata": {
    "vscode": {
     "languageId": "shellscript"
    }
   },
   "outputs": [],
   "source": [
    "# !pushd ../../k8s && ./manage.sh stop -n cash-flow && popd"
   ]
  },
  {
   "cell_type": "code",
   "execution_count": 8,
   "metadata": {
    "vscode": {
     "languageId": "shellscript"
    }
   },
   "outputs": [
    {
     "name": "stdout",
     "output_type": "stream",
     "text": [
      "NAME                              READY   STATUS    RESTARTS      AGE\n",
      "auth-5fd84d4f95-kfj55             1/1     Running   0             16s\n",
      "celery-worker-7c98bc497f-mh2dc    1/1     Running   0             16s\n",
      "dms-57946db4f6-4l7dt              1/1     Running   0             15s\n",
      "grafana-58c6666fc5-spzvr          1/1     Running   7 (88m ago)   157m\n",
      "notification-54898b9b49-bhl8x     1/1     Running   0             15s\n",
      "otel-collector-6595d959cf-blv7r   1/1     Running   7 (88m ago)   157m\n",
      "redis-6664db5d7c-nrrww            1/1     Running   0             16s\n",
      "registration-677864c8bf-ssxrv     1/1     Running   0             15s\n",
      "tasking-5c96756555-qpljm          1/1     Running   0             15s\n",
      "tempo-859dbfff85-vx7z6            1/1     Running   7 (88m ago)   157m\n",
      "tlm-service-6c694ddc7c-p8qwh      1/1     Running   7 (88m ago)   157m\n",
      "transaction-647c77f96f-djf2k      1/1     Running   0             15s\n",
      "tx-db-dep-5cb5b7b4d6-5zsgr        1/1     Running   0             16s\n",
      "user-db-dep-76f5ff8cc7-j7k9j      1/1     Running   0             17s\n"
     ]
    }
   ],
   "source": [
    "!kubectl get pods -n cash-flow"
   ]
  }
 ],
 "metadata": {
  "kernelspec": {
   "display_name": ".tests",
   "language": "python",
   "name": "python3"
  },
  "language_info": {
   "codemirror_mode": {
    "name": "ipython",
    "version": 3
   },
   "file_extension": ".py",
   "mimetype": "text/x-python",
   "name": "python",
   "nbconvert_exporter": "python",
   "pygments_lexer": "ipython3",
   "version": "3.12.5"
  }
 },
 "nbformat": 4,
 "nbformat_minor": 2
}

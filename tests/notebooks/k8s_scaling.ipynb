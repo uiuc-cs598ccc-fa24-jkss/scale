{
 "cells": [
  {
   "cell_type": "markdown",
   "metadata": {},
   "source": [
    "# Orchestration Testing\n",
    "\n",
    "## Prerequisites\n",
    "\n",
    "1. Kubernetes cluster runnig\n",
    "2. The HPA metrics server is installed Kuber\n",
    "    \n",
    "    Check if the metrics server is running: \n",
    "    \n",
    "    ```bash\n",
    "    kubectl get apiservices | grep metrics\n",
    "    ```\n",
    "\n",
    "    If it is not isntalled, you can deploy it with this command: \n",
    "\n",
    "    ```bash\n",
    "    kubectl apply -f https://github.com/kubernetes-sigs/metrics-server/releases/latest/download/components.yaml\n",
    "    ```"
   ]
  },
  {
   "cell_type": "code",
   "execution_count": 1,
   "metadata": {},
   "outputs": [],
   "source": [
    "import sys\n",
    "import os\n",
    "import time\n",
    "\n",
    "from kubernetes import client, config"
   ]
  },
  {
   "cell_type": "markdown",
   "metadata": {},
   "source": [
    "## Import our system"
   ]
  },
  {
   "cell_type": "code",
   "execution_count": 2,
   "metadata": {},
   "outputs": [],
   "source": [
    "sys.path.append ('..')\n",
    "import utils\n",
    "utils.add_to_sys_path(os.path.join('..', '..', 'scale'))\n",
    "\n",
    "from orchestration import OrchestrationClient, KubernetesClient"
   ]
  },
  {
   "cell_type": "markdown",
   "metadata": {},
   "source": [
    "### Kubernetes setup"
   ]
  },
  {
   "cell_type": "code",
   "execution_count": 3,
   "metadata": {},
   "outputs": [],
   "source": [
    "namespace = 'cash-flow'\n",
    "test_service = 'registration'\n",
    "\n",
    "k8s_client = KubernetesClient(namespace=namespace)\n",
    "\n",
    "# to get the pods\n",
    "v1 = client.CoreV1Api()"
   ]
  },
  {
   "cell_type": "markdown",
   "metadata": {},
   "source": [
    "### Utilities"
   ]
  },
  {
   "cell_type": "code",
   "execution_count": 4,
   "metadata": {},
   "outputs": [],
   "source": [
    "def list_pods(namespace):\n",
    "    print(f\"Listing pods in the {namespace} namespace:\")\n",
    "    pods = v1.list_namespaced_pod(namespace=namespace)\n",
    "    for pod in pods.items:\n",
    "        print(pod.metadata.name)\n",
    "\n"
   ]
  },
  {
   "cell_type": "markdown",
   "metadata": {},
   "source": [
    "### Get the current replicas for service"
   ]
  },
  {
   "cell_type": "code",
   "execution_count": 5,
   "metadata": {},
   "outputs": [
    {
     "name": "stdout",
     "output_type": "stream",
     "text": [
      "Current number of registration replicas: 1\n"
     ]
    }
   ],
   "source": [
    "\n",
    "replicas = k8s_client.get_current_scale(test_service)\n",
    "\n",
    "print(f\"Current number of {test_service} replicas: {replicas}\")"
   ]
  },
  {
   "cell_type": "markdown",
   "metadata": {},
   "source": [
    "### Scale up"
   ]
  },
  {
   "cell_type": "code",
   "execution_count": 6,
   "metadata": {},
   "outputs": [
    {
     "name": "stdout",
     "output_type": "stream",
     "text": [
      "Scale up successful. New number of registration replicas: 2\n",
      "Listing pods in the cash-flow namespace:\n",
      "auth-5fd84d4f95-szmpr\n",
      "celery-worker-7c98bc497f-8mnln\n",
      "dms-57946db4f6-bwwr9\n",
      "redis-6664db5d7c-dlffh\n",
      "registration-677864c8bf-92t4d\n",
      "registration-677864c8bf-nkfwx\n",
      "tasking-5c96756555-ssxkh\n",
      "transaction-647c77f96f-6w7t6\n",
      "tx-db-dep-5cb5b7b4d6-k9g2j\n",
      "user-db-dep-76f5ff8cc7-5btc9\n"
     ]
    }
   ],
   "source": [
    "initial_replicas = k8s_client.get_current_scale(test_service)\n",
    "\n",
    "# scale up by 1 replica\n",
    "k8s_client.scale_service('registration', 1) \n",
    "\n",
    "\n",
    "for _ in range(10):\n",
    "    new_replicas = k8s_client.get_current_scale(test_service)\n",
    "    if new_replicas > initial_replicas:\n",
    "        print(f\"Scale up successful. New number of {test_service} replicas: {new_replicas}\")\n",
    "        break\n",
    "    else:\n",
    "        time.sleep(1)\n",
    "\n",
    "list_pods(namespace)"
   ]
  },
  {
   "cell_type": "markdown",
   "metadata": {},
   "source": [
    "### Scale down"
   ]
  },
  {
   "cell_type": "code",
   "execution_count": 7,
   "metadata": {},
   "outputs": [
    {
     "name": "stdout",
     "output_type": "stream",
     "text": [
      "Scale down successful. New number of registration replicas: 1\n",
      "Listing pods in the cash-flow namespace:\n",
      "auth-5fd84d4f95-szmpr\n",
      "celery-worker-7c98bc497f-8mnln\n",
      "dms-57946db4f6-bwwr9\n",
      "redis-6664db5d7c-dlffh\n",
      "registration-677864c8bf-92t4d\n",
      "tasking-5c96756555-ssxkh\n",
      "transaction-647c77f96f-6w7t6\n",
      "tx-db-dep-5cb5b7b4d6-k9g2j\n",
      "user-db-dep-76f5ff8cc7-5btc9\n"
     ]
    }
   ],
   "source": [
    "initial_replicas = k8s_client.get_current_scale(test_service)\n",
    "\n",
    "# scale down by 1 replica\n",
    "k8s_client.scale_service('registration', -1)\n",
    "\n",
    "for _ in range(10):\n",
    "    new_replicas = k8s_client.get_current_scale(test_service)\n",
    "    if new_replicas < initial_replicas:\n",
    "        print(f\"Scale down successful. New number of {test_service} replicas: {new_replicas}\")\n",
    "        break\n",
    "    else:\n",
    "        time.sleep(1)\n",
    "\n",
    "# takes a couple seconds for the pod to be deleted\n",
    "time.sleep(2)\n",
    "        \n",
    "list_pods(namespace)"
   ]
  }
 ],
 "metadata": {
  "kernelspec": {
   "display_name": "Python 3",
   "language": "python",
   "name": "python3"
  },
  "language_info": {
   "codemirror_mode": {
    "name": "ipython",
    "version": 3
   },
   "file_extension": ".py",
   "mimetype": "text/x-python",
   "name": "python",
   "nbconvert_exporter": "python",
   "pygments_lexer": "ipython3",
   "version": "3.12.5"
  }
 },
 "nbformat": 4,
 "nbformat_minor": 2
}

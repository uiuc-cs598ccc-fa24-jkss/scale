{
 "cells": [
  {
   "cell_type": "markdown",
   "metadata": {},
   "source": []
  },
  {
   "cell_type": "markdown",
   "metadata": {},
   "source": [
    "# Building and Deploying contianers \n",
    "\n",
    "This is an attempt to streamline building and deploying containers we'll use during the development process.  \n",
    "\n",
    "This is meant to be a living document and should continue to be updated as we progress."
   ]
  },
  {
   "cell_type": "markdown",
   "metadata": {},
   "source": [
    "## Building and Pushing `tlm` with the default version\n",
    "\n",
    "**Note**: The following commands assume you are running them from the `/scale/scale/tlm` directory\n",
    "\n",
    "The `build.sh` script can be execute in several ways. \n",
    "\n",
    "### 1. Build and Push the resulting image to Dockerhub\n",
    "\n",
    "```bash\n",
    "./build.sh\n",
    "```\n",
    "\n",
    "### 2. Build only\n",
    "\n",
    "```bash\n",
    "./build.sh build\n",
    "```\n",
    "\n",
    "### 3. Push only\n",
    "\n",
    "```bash\n",
    "./build.sh push\n",
    "```\n",
    "\n",
    "## Building and Pushing with a specified version\n",
    "\n",
    "The `build.sh` script has been updated to accept a `-v` paramter for the version you wish to build.  If no version is provided, it will default to the version in [.env.tlm](../../scale/scale/tlm/.env.tlm)\n",
    "\n",
    "We could further parameterize the scirpt to specify the whole tag and repo if we want.\n",
    "\n",
    "### 1. Build and push a specified version\n",
    "\n",
    "In the example, the version is `latest`, but the version you choose is up to you.  You'll later need to specify that version for deploying your container. \n",
    "\n",
    "```bash\n",
    "./build.sh -v latest\n",
    "```\n",
    "\n",
    "### 2. Build a specified version\n",
    "\n",
    "```bash\n",
    "./build.sh build -v latest\n",
    "```\n",
    "\n",
    "### 3. Push a specified version\n",
    "\n",
    "```bash\n",
    "./build.sh push -v latest\n",
    "```"
   ]
  },
  {
   "cell_type": "markdown",
   "metadata": {},
   "source": [
    "## Deploying your container\n",
    "\n",
    "If deploying containers for testing purposes, it will be easiest to use `helm`.  For basic helm setup and commands, see [helm notebook](helm.ipynb) or the [charts README](../../charts/README.md). \n",
    "\n",
    "Assuming you've went through the previous section and built a `tlm-service` image with the version `latest`, you can deploy it to your cluster with the following command: \n",
    "\n",
    "**Note**: This assumes you are running from the `/charts` directory, but you could run it from anywhere as long as you give it the absolute or relative path to the `/charts/tlm` chart directory. \n",
    "\n",
    "```bash\n",
    "helm upgrade --install tlm ./tlm --namespace cash-flow --set image.version=latest\n",
    "```"
   ]
  },
  {
   "cell_type": "markdown",
   "metadata": {},
   "source": [
    "## Example\n",
    "\n",
    "**Note**: if you have a current instance of `tlm-service` started using the [manage.sh script](../../k8s/manage.sh), stop the current instance by running `./manage.sh stop`. \n",
    "\n",
    "If you have current instance running via helm chart, that is fine.  This will upgrade it to your new version. "
   ]
  },
  {
   "cell_type": "markdown",
   "metadata": {},
   "source": [
    "### Build a container with your updates\n",
    "\n",
    "The version in the example is `latest`, but you can use whatever you want."
   ]
  },
  {
   "cell_type": "code",
   "execution_count": 7,
   "metadata": {
    "vscode": {
     "languageId": "shellscript"
    }
   },
   "outputs": [
    {
     "name": "stdout",
     "output_type": "stream",
     "text": [
      "Sourcing .env file\n",
      "Building image: johndurkin/scale:tlm-service-latest\n"
     ]
    },
    {
     "name": "stderr",
     "output_type": "stream",
     "text": [
      "DEPRECATED: The legacy builder is deprecated and will be removed in a future release.\n",
      "            Install the buildx component to build images with BuildKit:\n",
      "            https://docs.docker.com/go/buildx/\n",
      "\n"
     ]
    },
    {
     "name": "stdout",
     "output_type": "stream",
     "text": [
      "Sending build context to Docker daemon  14.34kB\n",
      "Step 1/10 : FROM python:3.9-slim\n",
      " ---> 9d8cb7037cd8\n",
      "Step 2/10 : WORKDIR /app\n",
      " ---> Using cache\n",
      " ---> 65f4af5222a7\n",
      "Step 3/10 : ENV PYTHONPATH=\"${PYTHONPATH}:/app:$PYTHONPATH\"\n",
      " ---> Using cache\n",
      " ---> 7aff90489d3a\n",
      "Step 4/10 : COPY main.py /app\n",
      " ---> Using cache\n",
      " ---> 6a2a2bbb8323\n",
      "Step 5/10 : COPY tlm_service.py /app\n",
      " ---> Using cache\n",
      " ---> e0739c8298ec\n",
      "Step 6/10 : COPY requirements.txt /app\n",
      " ---> Using cache\n",
      " ---> b95cff49e483\n",
      "Step 7/10 : RUN pip install --upgrade pip\n",
      " ---> Using cache\n",
      " ---> 6530289ceafe\n",
      "Step 8/10 : RUN pip install --no-cache-dir -r requirements.txt\n",
      " ---> Using cache\n",
      " ---> 432df993768d\n",
      "Step 9/10 : EXPOSE 4317 4318 4319\n",
      " ---> Using cache\n",
      " ---> aa811256d81a\n",
      "Step 10/10 : CMD [\"python\", \"main.py\"]\n",
      " ---> Using cache\n",
      " ---> 5281d6917da4\n",
      "Successfully built 5281d6917da4\n",
      "Successfully tagged johndurkin/scale:tlm-service-latest\n",
      "Pushing image: johndurkin/scale:tlm-service-latest\n",
      "The push refers to repository [docker.io/johndurkin/scale]\n",
      "0ab5bb5434be: Preparing\n",
      "c4d3a4e14eda: Preparing\n",
      "ce580dc47448: Preparing\n",
      "72a739a280f3: Preparing\n",
      "19845f7c99e2: Preparing\n",
      "0c846f7dbe33: Preparing\n",
      "9e599118e168: Preparing\n",
      "e228adf1886f: Preparing\n",
      "fb5ccd0db472: Preparing\n",
      "8d853c8add5d: Preparing\n",
      "0c846f7dbe33: Waiting\n",
      "9e599118e168: Waiting\n",
      "e228adf1886f: Waiting\n",
      "fb5ccd0db472: Waiting\n",
      "8d853c8add5d: Waiting\n",
      "0ab5bb5434be: Layer already exists\n",
      "c4d3a4e14eda: Layer already exists\n",
      "19845f7c99e2: Layer already exists\n",
      "ce580dc47448: Layer already exists\n",
      "72a739a280f3: Layer already exists\n",
      "0c846f7dbe33: Layer already exists\n",
      "8d853c8add5d: Layer already exists\n",
      "e228adf1886f: Layer already exists\n",
      "fb5ccd0db472: Layer already exists\n",
      "9e599118e168: Layer already exists\n",
      "tlm-service-latest: digest: sha256:0e3385c5cbcc99b5419e4615f601adf12cdc686ecc54418613823fceefbed3a6 size: 2410\n"
     ]
    }
   ],
   "source": [
    "%%bash\n",
    "\n",
    "cd ../../scale/scale/tlm\n",
    "\n",
    "./build.sh -v latest"
   ]
  },
  {
   "cell_type": "markdown",
   "metadata": {},
   "source": [
    "### Deploy container with your `image.version`\n",
    "\n",
    "This command will upgrade a current `tlm` chart if already installed, otherwise it will just install it "
   ]
  },
  {
   "cell_type": "code",
   "execution_count": 8,
   "metadata": {
    "vscode": {
     "languageId": "shellscript"
    }
   },
   "outputs": [
    {
     "name": "stdout",
     "output_type": "stream",
     "text": [
      "Release \"tlm\" does not exist. Installing it now.\n",
      "NAME: tlm\n",
      "LAST DEPLOYED: Mon Oct 14 21:59:32 2024\n",
      "NAMESPACE: cash-flow\n",
      "STATUS: deployed\n",
      "REVISION: 1\n",
      "TEST SUITE: None\n"
     ]
    }
   ],
   "source": [
    "%%bash\n",
    "\n",
    "# go to the charts directory\n",
    "cd ../../charts\n",
    "\n",
    "helm upgrade --install tlm ./tlm --namespace cash-flow --set image.version=latest"
   ]
  },
  {
   "cell_type": "markdown",
   "metadata": {},
   "source": [
    "### Deploy container setting the `image.version` and `image.pullPolicy`\n",
    "\n",
    "The default `pullPolicy` is **Always**.  These values are defined in the chart's [values.yaml](../../charts/tlm/values.yaml). \n",
    "\n",
    "You can override any of them.  Here is an example of setting both the `version` and `pullPolicy` for `tlm`\n",
    "\n",
    "```bash\n",
    "helm upgrade --install tlm ./tlm \\\n",
    "  --set image.version=latest \\\n",
    "  --set image.pullPolicy=IfNotPresent\n",
    "```"
   ]
  },
  {
   "cell_type": "code",
   "execution_count": 12,
   "metadata": {
    "vscode": {
     "languageId": "shellscript"
    }
   },
   "outputs": [
    {
     "name": "stdout",
     "output_type": "stream",
     "text": [
      "Release \"tlm\" does not exist. Installing it now.\n",
      "NAME: tlm\n",
      "LAST DEPLOYED: Mon Oct 14 22:36:01 2024\n",
      "NAMESPACE: default\n",
      "STATUS: deployed\n",
      "REVISION: 1\n",
      "TEST SUITE: None\n"
     ]
    }
   ],
   "source": [
    "%%bash\n",
    "\n",
    "# go to the charts directory\n",
    "cd ../../charts\n",
    "\n",
    "helm upgrade --install tlm ./tlm \\\n",
    "  --set image.version=latest \\\n",
    "  --set image.pullPolicy=IfNotPresent"
   ]
  },
  {
   "cell_type": "markdown",
   "metadata": {},
   "source": [
    "### Verify your version is being used"
   ]
  },
  {
   "cell_type": "code",
   "execution_count": 10,
   "metadata": {
    "vscode": {
     "languageId": "shellscript"
    }
   },
   "outputs": [
    {
     "name": "stdout",
     "output_type": "stream",
     "text": [
      "  Normal  Pulling    22s   kubelet            Pulling image \"johndurkin/scale:tlm-service-latest\"\n",
      "  Normal  Pulled     22s   kubelet            Successfully pulled image \"johndurkin/scale:tlm-service-latest\" in 598ms (598ms including waiting). Image size: 302494479 bytes.\n"
     ]
    }
   ],
   "source": [
    "%%bash\n",
    "\n",
    "kubectl describe pod -l app=tlm-service -n cash-flow | grep image"
   ]
  },
  {
   "cell_type": "markdown",
   "metadata": {},
   "source": [
    "## Deploying `otel-collector`"
   ]
  },
  {
   "cell_type": "code",
   "execution_count": 11,
   "metadata": {
    "vscode": {
     "languageId": "shellscript"
    }
   },
   "outputs": [
    {
     "name": "stdout",
     "output_type": "stream",
     "text": [
      "Release \"otel-collector\" does not exist. Installing it now.\n",
      "NAME: otel-collector\n",
      "LAST DEPLOYED: Mon Oct 14 22:02:38 2024\n",
      "NAMESPACE: cash-flow\n",
      "STATUS: deployed\n",
      "REVISION: 1\n",
      "TEST SUITE: None\n"
     ]
    }
   ],
   "source": [
    "%%bash \n",
    "\n",
    "# go to the charts directory\n",
    "cd ../../charts\n",
    "\n",
    "helm upgrade --install otel-collector ./otel-collector --namespace cash-flow "
   ]
  }
 ],
 "metadata": {
  "kernelspec": {
   "display_name": "cli",
   "language": "python",
   "name": "python3"
  },
  "language_info": {
   "codemirror_mode": {
    "name": "ipython",
    "version": 3
   },
   "file_extension": ".py",
   "mimetype": "text/x-python",
   "name": "python",
   "nbconvert_exporter": "python",
   "pygments_lexer": "ipython3",
   "version": "3.12.3"
  }
 },
 "nbformat": 4,
 "nbformat_minor": 2
}

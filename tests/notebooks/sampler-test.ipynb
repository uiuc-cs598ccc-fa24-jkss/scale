{
 "cells": [
  {
   "cell_type": "code",
   "execution_count": null,
   "metadata": {},
   "outputs": [],
   "source": [
    "import sys\n",
    "import os\n",
    "import asyncio\n",
    "from pprint import pprint\n",
    "from random import randrange\n",
    "import pandas as pd\n",
    "import logging\n",
    "import hashlib\n",
    "import re\n",
    "import math\n",
    "\n",
    "from river import anomaly\n",
    "import os\n",
    "import pathlib\n",
    "\n",
    "sys.path.append ('..')\n",
    "import utils\n",
    "\n",
    "project_path = os.path.join('..', '..', 'scale')\n",
    "\n",
    "sys.path.append(project_path)\n",
    "\n",
    "utils.add_to_sys_path(project_path)\n",
    "\n",
    "#from scale.backends.tempo_client import TempoClient"
   ]
  },
  {
   "cell_type": "markdown",
   "metadata": {},
   "source": [
    "## Spans dataset directory"
   ]
  },
  {
   "cell_type": "code",
   "execution_count": 2,
   "metadata": {},
   "outputs": [
    {
     "data": {
      "text/plain": [
       "True"
      ]
     },
     "execution_count": 2,
     "metadata": {},
     "output_type": "execute_result"
    }
   ],
   "source": [
    "SPANS_CSV_DIR = os.path.join('..', 'data', 'spans')\n",
    "\n",
    "os.path.exists(SPANS_CSV_DIR)"
   ]
  },
  {
   "cell_type": "markdown",
   "metadata": {},
   "source": [
    "## Parameters\n",
    "\n",
    "### Dataset to use"
   ]
  },
  {
   "cell_type": "code",
   "execution_count": 3,
   "metadata": {},
   "outputs": [],
   "source": [
    "dataset = \"spans_tracemesh_style_11_11.csv\"\n",
    "# dataset = \"spans_11_7.csv\""
   ]
  },
  {
   "cell_type": "markdown",
   "metadata": {},
   "source": [
    "### Testing and Tuning Parameters"
   ]
  },
  {
   "cell_type": "code",
   "execution_count": 4,
   "metadata": {},
   "outputs": [],
   "source": [
    "# A fixed amount of milliseconds to add to a shocked duration\n",
    "shock_static_bump=10\n",
    "\n",
    "# A range that is used to pick a factor from to multiply a shocked duration by\n",
    "shock_range=(8, 10)\n",
    "\n",
    "# The number of bits to use from a hashed operation name to perform binary encoding\n",
    "feature_length=64         \n",
    "\n",
    "# The maximum duration a span can have to be considered for training\n",
    "max_train_duration=10000\n",
    "\n",
    "# The maximum duration a span can have when scoring (if higher, it will be capped at this)\n",
    "max_duration=10000\n",
    "\n",
    "# The minimum score with [0, 1] that will signify a trace as anomalous\n",
    "sample_score=0.60\n",
    "\n",
    "# Parameter to HST for number of trees to use\n",
    "n_trees=16\n",
    "\n",
    "# Height of each tree. Note that a tree of height `h` is made up of `h + 1` levels and\n",
    "# therefore contains `2 ** (h + 1) - 1` nodes.\n",
    "height=8\n",
    "            \n",
    "# Number of observations to use for calculating the mass at each node in each tree.\n",
    "window_size=175\n",
    "\n",
    "# Switch between pulling traces from a CSV or from Tempo\n",
    "df_source=\"csv\"\n",
    "\n",
    "# URL if pulling from Tempo\n",
    "tempo_url=\"http://localhost:32000\"\n",
    "\n",
    "# Path to CSV if pulling from CSV\n",
    "csv_path=os.path.join(SPANS_CSV_DIR, dataset)\n",
    "\n",
    "# Featurize method for classifying service/operation - currently support = [binenc, onehot]\n",
    "featurizer_type = \"onehot\""
   ]
  },
  {
   "cell_type": "markdown",
   "metadata": {},
   "source": [
    "## Methods"
   ]
  },
  {
   "cell_type": "markdown",
   "metadata": {},
   "source": [
    "### Removes unique text form operations"
   ]
  },
  {
   "cell_type": "code",
   "execution_count": 5,
   "metadata": {},
   "outputs": [],
   "source": [
    "SANITIZE_PATTERNS = [\n",
    "    re.compile(\"(GET .*)\\\\?.*\"),\n",
    "    re.compile(\"(GET /api/products)/[A-Z0-9]+\"),\n",
    "]\n",
    "\n",
    "def sanitize_operation(operation):\n",
    "    for pattern in SANITIZE_PATTERNS:\n",
    "        operation = pattern.sub(\"\\\\1\", operation)\n",
    "    return operation"
   ]
  },
  {
   "cell_type": "markdown",
   "metadata": {},
   "source": []
  },
  {
   "cell_type": "code",
   "execution_count": 6,
   "metadata": {},
   "outputs": [],
   "source": [
    "def normalize_duration(duration, max_duration):\n",
    "    return min(duration, max_duration)"
   ]
  },
  {
   "cell_type": "markdown",
   "metadata": {},
   "source": [
    "## Featurize Operation\n",
    "\n",
    "Generates unique features set for each operation"
   ]
  },
  {
   "cell_type": "code",
   "execution_count": 7,
   "metadata": {},
   "outputs": [],
   "source": [
    "if featurizer_type == \"binenc\":\n",
    "    def featurize(service, operation):\n",
    "        name = service + sanitize_operation(operation)\n",
    "        hash_object = hashlib.sha256(name.encode())\n",
    "        hash_value = int.from_bytes(hash_object.digest(), \"big\")\n",
    "        features = {str(i): hash_value & (1 << i) for i in range(feature_length)}\n",
    "        return features\n",
    "elif featurizer_type == \"onehot\":\n",
    "    service_encodings = {}\n",
    "    operation_encodings = {}\n",
    "    def featurize(service, operation):\n",
    "        operation = sanitize_operation(operation)\n",
    "        service_encoding = service_encodings.get(service)\n",
    "        if service_encoding is None:\n",
    "            service_encodings[service] = service_encoding = len(service_encodings)\n",
    "        operation_encoding = operation_encodings.get(operation)\n",
    "        if operation_encoding is None:\n",
    "            operation_encodings[operation] = operation_encoding = len(operation_encodings)\n",
    "        features = {f\"s{service_encoding}\": 1, f\"o{operation_encoding}\": 1}\n",
    "        return features\n",
    "else:\n",
    "    raise Exception(f\"Invalid featurizer_type: {featurizer_type}\")"
   ]
  },
  {
   "cell_type": "markdown",
   "metadata": {},
   "source": [
    "## Load the dataset\n",
    "\n",
    "Load the pandas dataframe, trimming exceedingly out of range values"
   ]
  },
  {
   "cell_type": "code",
   "execution_count": 8,
   "metadata": {},
   "outputs": [
    {
     "data": {
      "text/plain": [
       "77210"
      ]
     },
     "execution_count": 8,
     "metadata": {},
     "output_type": "execute_result"
    }
   ],
   "source": [
    "spans_df = pd.read_csv(csv_path)\n",
    "\n",
    "if \"OperationName\" in spans_df.columns:\n",
    "    # tracemesh style\n",
    "    spans_df['duration'] = spans_df['Duration']\n",
    "    spans_df['service_name'] = spans_df['OperationName']\n",
    "    spans_df['name'] = spans_df['OperationName']\n",
    "    spans_df['span_id'] = spans_df['SpanID']\n",
    "else:\n",
    "    # normal style\n",
    "    spans_df['duration'] = 1e-6 * (spans_df['end_time_unix_nano'] - spans_df['start_time_unix_nano'])\n",
    "\n",
    "spans_df = spans_df[spans_df[\"duration\"] < max_train_duration]\n",
    "len(spans_df)"
   ]
  },
  {
   "cell_type": "markdown",
   "metadata": {},
   "source": [
    "## Prepare the training, test, and control datasets"
   ]
  },
  {
   "cell_type": "code",
   "execution_count": 9,
   "metadata": {},
   "outputs": [
    {
     "name": "stdout",
     "output_type": "stream",
     "text": [
      "Training size: 11581\n",
      "Control size: 38605\n",
      "Shock test size: 2316\n",
      "Remaining spans: 24708\n"
     ]
    }
   ],
   "source": [
    "train_pct = 0.15\n",
    "control_pct = 0.5\n",
    "shock_pct = 0.03\n",
    "\n",
    "train_size = int(len(spans_df) * train_pct)\n",
    "control_size = int(len(spans_df) * control_pct)\n",
    "shock_test_size = int(len(spans_df) * shock_pct)\n",
    "\n",
    "train_df = spans_df.sample(n=train_size)\n",
    "\n",
    "# Remove the training spans from the original dataframe\n",
    "spans_df = spans_df[~spans_df.index.isin(train_df.index)]\n",
    "\n",
    "control_df = spans_df.sample(n=control_size)\n",
    "\n",
    "# Remove the control spans\n",
    "spans_df = spans_df[~spans_df.index.isin(control_df.index)]\n",
    "\n",
    "shock_test_df = spans_df.sample(n=shock_test_size)\n",
    "\n",
    "# Remove the shock test spans\n",
    "spans_df = spans_df[~spans_df.index.isin(shock_test_df.index)]\n",
    "\n",
    "print(f\"Training size: {len(train_df)}\")\n",
    "print(f\"Control size: {len(control_df)}\")\n",
    "print(f\"Shock test size: {len(shock_test_df)}\")\n",
    "print(f\"Remaining spans: {len(spans_df)}\")"
   ]
  },
  {
   "cell_type": "markdown",
   "metadata": {},
   "source": [
    "## Prepare the model"
   ]
  },
  {
   "cell_type": "code",
   "execution_count": 10,
   "metadata": {},
   "outputs": [],
   "source": [
    "limits = {\"dur\": (0, max_duration)}\n",
    "\n",
    "test_results = []\n",
    "\n",
    "hst = anomaly.HalfSpaceTrees(\n",
    "    n_trees=n_trees, \n",
    "    height=height, \n",
    "    window_size=window_size, \n",
    "    seed=895, \n",
    "    limits=limits\n",
    ")"
   ]
  },
  {
   "cell_type": "markdown",
   "metadata": {},
   "source": [
    "## Train the model"
   ]
  },
  {
   "cell_type": "code",
   "execution_count": 11,
   "metadata": {},
   "outputs": [],
   "source": [
    "# Train model\n",
    "for index, span in train_df.iterrows():\n",
    "    service = span[\"service_name\"]\n",
    "    operation = span[\"name\"]\n",
    "    record = featurize(service, operation)\n",
    "    duration = span[\"duration\"]\n",
    "    record[\"dur\"] = normalize_duration(duration, max_duration)\n",
    "    hst.learn_one(record)"
   ]
  },
  {
   "cell_type": "markdown",
   "metadata": {},
   "source": [
    "## Record hits for test set"
   ]
  },
  {
   "cell_type": "code",
   "execution_count": 12,
   "metadata": {},
   "outputs": [
    {
     "name": "stdout",
     "output_type": "stream",
     "text": [
      "total time: 0.11485934257507324\n",
      "Time per span: 0.000050 seconds\n"
     ]
    }
   ],
   "source": [
    "import time\n",
    "## Record hits for shocked spans\n",
    "shock_hits = []\n",
    "\n",
    "shock_time = 0\n",
    "for index, span in shock_test_df.iterrows():\n",
    "    start_time = time.time()\n",
    "    shock_factor = randrange(*shock_range)\n",
    "    service = span[\"service_name\"]\n",
    "    operation = span[\"name\"]\n",
    "    record = featurize(service, operation)\n",
    "    duration = (span[\"duration\"] + shock_static_bump) * shock_factor\n",
    "    record[\"dur\"] = normalize_duration(duration, max_duration)\n",
    "    score = hst.score_one(record)\n",
    "    shock_time += time.time() - start_time\n",
    "\n",
    "    test_results.append({\n",
    "        \"span_id\": span[\"span_id\"],\n",
    "        \"duration\": span[\"duration\"],\n",
    "        \"shock_factor\": shock_factor,\n",
    "        \"score\": score,\n",
    "        \"label\": 1,\n",
    "    })\n",
    "    if score > sample_score:\n",
    "        shock_hits.append(span[\"span_id\"])\n",
    "\n",
    "print(f\"total time: {shock_time}\")\n",
    "time_per_span_shocked = shock_time / len(shock_test_df)\n",
    "print(f\"Time per span: {time_per_span_shocked:.6f} seconds\")"
   ]
  },
  {
   "cell_type": "markdown",
   "metadata": {},
   "source": [
    "## Record hits for control group"
   ]
  },
  {
   "cell_type": "code",
   "execution_count": 13,
   "metadata": {},
   "outputs": [
    {
     "name": "stdout",
     "output_type": "stream",
     "text": [
      "total time:  1.55845046043396\n",
      "Time per span: 0.000040 seconds\n"
     ]
    }
   ],
   "source": [
    "# Record hits for unshocked spans\n",
    "false_positives = []\n",
    "control_time = 0\n",
    "for index, span in control_df.iterrows():\n",
    "    start_time = time.time()\n",
    "    service = span[\"service_name\"]\n",
    "    operation = span[\"name\"]\n",
    "    record = featurize(service, operation)\n",
    "    duration = span[\"duration\"]\n",
    "    record[\"dur\"] = normalize_duration(duration, max_duration)\n",
    "    score = hst.score_one(record)\n",
    "    control_time += time.time() - start_time\n",
    "    test_results.append({\n",
    "        \"span_id\": span[\"span_id\"],\n",
    "        \"duration\": span[\"duration\"],\n",
    "        \"shock_factor\": 1,\n",
    "        \"score\": score,\n",
    "        \"label\": 0,\n",
    "    })\n",
    "    if score > sample_score:\n",
    "        false_positives.append(span[\"span_id\"])\n",
    "\n",
    "print(\"total time: \", control_time)   \n",
    "\n",
    "time_per_span_control = control_time / len(control_df)\n",
    "print(f\"Time per span: {time_per_span_control:.6f} seconds\")\n"
   ]
  },
  {
   "cell_type": "markdown",
   "metadata": {},
   "source": [
    "---\n",
    "\n",
    "## Report results"
   ]
  },
  {
   "cell_type": "code",
   "execution_count": 14,
   "metadata": {},
   "outputs": [
    {
     "name": "stdout",
     "output_type": "stream",
     "text": [
      "Shocked hit on 100.0%\n",
      "False positives hit on 2.645%\n",
      "Total spans processed: 40921\n",
      "Average time per span: 0.0 seconds\n",
      "Spans processed per second: 22231.367\n"
     ]
    }
   ],
   "source": [
    "shock_rate = 100 * len(shock_hits) / len(shock_test_df)\n",
    "total_rate = 100 * len(false_positives) / len(control_df)\n",
    "results_df = pd.DataFrame(test_results)\n",
    "print(f\"Shocked hit on {round(shock_rate, 3)}%\")\n",
    "print(f\"False positives hit on {round(total_rate, 3)}%\")\n",
    "print(f\"Total spans processed: {len(shock_test_df) + len(control_df)}\")\n",
    "print(f\"Average time per span: {round((time_per_span_shocked + time_per_span_control) / 2, 4)} seconds\")\n",
    "print(f\"Spans processed per second: {round(1 / ((time_per_span_shocked + time_per_span_control) / 2), 4)}\")"
   ]
  },
  {
   "cell_type": "code",
   "execution_count": 15,
   "metadata": {},
   "outputs": [
    {
     "name": "stdout",
     "output_type": "stream",
     "text": [
      "Testing combination: n_trees=12, height=8, window_size=125, feature_length=16, shock_range=(8, 10), shock_static_bump=5, sample_score=0.4\n",
      " - Shocked detection rate: 100.00%\n",
      " - False positive rate: 6.16%\n",
      "\n",
      "Testing combination: n_trees=12, height=8, window_size=125, feature_length=16, shock_range=(8, 10), shock_static_bump=5, sample_score=0.5\n",
      " - Shocked detection rate: 100.00%\n",
      " - False positive rate: 5.08%\n",
      "\n",
      "Testing combination: n_trees=12, height=8, window_size=125, feature_length=16, shock_range=(8, 10), shock_static_bump=5, sample_score=0.6\n",
      " - Shocked detection rate: 94.08%\n",
      " - False positive rate: 3.48%\n",
      "\n",
      "Testing combination: n_trees=12, height=8, window_size=125, feature_length=16, shock_range=(8, 10), shock_static_bump=10, sample_score=0.4\n",
      " - Shocked detection rate: 100.00%\n",
      " - False positive rate: 6.16%\n",
      "\n",
      "Testing combination: n_trees=12, height=8, window_size=125, feature_length=16, shock_range=(8, 10), shock_static_bump=10, sample_score=0.5\n",
      " - Shocked detection rate: 100.00%\n",
      " - False positive rate: 5.08%\n",
      "\n",
      "Testing combination: n_trees=12, height=8, window_size=125, feature_length=16, shock_range=(8, 10), shock_static_bump=10, sample_score=0.6\n",
      " - Shocked detection rate: 100.00%\n",
      " - False positive rate: 3.48%\n",
      "\n",
      "Testing combination: n_trees=12, height=8, window_size=125, feature_length=16, shock_range=(8, 10), shock_static_bump=15, sample_score=0.4\n",
      " - Shocked detection rate: 100.00%\n",
      " - False positive rate: 6.16%\n",
      "\n",
      "Testing combination: n_trees=12, height=8, window_size=125, feature_length=16, shock_range=(8, 10), shock_static_bump=15, sample_score=0.5\n",
      " - Shocked detection rate: 100.00%\n",
      " - False positive rate: 5.08%\n",
      "\n",
      "Testing combination: n_trees=12, height=8, window_size=125, feature_length=16, shock_range=(8, 10), shock_static_bump=15, sample_score=0.6\n",
      " - Shocked detection rate: 100.00%\n",
      " - False positive rate: 3.48%\n",
      "\n",
      "Testing combination: n_trees=12, height=8, window_size=125, feature_length=16, shock_range=(10, 15), shock_static_bump=5, sample_score=0.4\n",
      " - Shocked detection rate: 100.00%\n",
      " - False positive rate: 6.16%\n",
      "\n",
      "Testing combination: n_trees=12, height=8, window_size=125, feature_length=16, shock_range=(10, 15), shock_static_bump=5, sample_score=0.5\n",
      " - Shocked detection rate: 100.00%\n",
      " - False positive rate: 5.08%\n",
      "\n",
      "Testing combination: n_trees=12, height=8, window_size=125, feature_length=16, shock_range=(10, 15), shock_static_bump=5, sample_score=0.6\n",
      " - Shocked detection rate: 99.96%\n",
      " - False positive rate: 3.48%\n",
      "\n",
      "Testing combination: n_trees=12, height=8, window_size=125, feature_length=16, shock_range=(10, 15), shock_static_bump=10, sample_score=0.4\n",
      " - Shocked detection rate: 100.00%\n",
      " - False positive rate: 6.16%\n",
      "\n",
      "Testing combination: n_trees=12, height=8, window_size=125, feature_length=16, shock_range=(10, 15), shock_static_bump=10, sample_score=0.5\n",
      " - Shocked detection rate: 100.00%\n",
      " - False positive rate: 5.08%\n",
      "\n",
      "Testing combination: n_trees=12, height=8, window_size=125, feature_length=16, shock_range=(10, 15), shock_static_bump=10, sample_score=0.6\n",
      " - Shocked detection rate: 100.00%\n",
      " - False positive rate: 3.48%\n",
      "\n",
      "Testing combination: n_trees=12, height=8, window_size=125, feature_length=16, shock_range=(10, 15), shock_static_bump=15, sample_score=0.4\n",
      " - Shocked detection rate: 100.00%\n",
      " - False positive rate: 6.16%\n",
      "\n",
      "Testing combination: n_trees=12, height=8, window_size=125, feature_length=16, shock_range=(10, 15), shock_static_bump=15, sample_score=0.5\n",
      " - Shocked detection rate: 100.00%\n",
      " - False positive rate: 5.08%\n",
      "\n",
      "Testing combination: n_trees=12, height=8, window_size=125, feature_length=16, shock_range=(10, 15), shock_static_bump=15, sample_score=0.6\n",
      " - Shocked detection rate: 100.00%\n",
      " - False positive rate: 3.48%\n",
      "\n",
      "Testing combination: n_trees=12, height=8, window_size=125, feature_length=16, shock_range=(15, 20), shock_static_bump=5, sample_score=0.4\n",
      " - Shocked detection rate: 100.00%\n",
      " - False positive rate: 6.16%\n",
      "\n",
      "Testing combination: n_trees=12, height=8, window_size=125, feature_length=16, shock_range=(15, 20), shock_static_bump=5, sample_score=0.5\n",
      " - Shocked detection rate: 100.00%\n",
      " - False positive rate: 5.08%\n",
      "\n",
      "Testing combination: n_trees=12, height=8, window_size=125, feature_length=16, shock_range=(15, 20), shock_static_bump=5, sample_score=0.6\n",
      " - Shocked detection rate: 100.00%\n",
      " - False positive rate: 3.48%\n",
      "\n",
      "Testing combination: n_trees=12, height=8, window_size=125, feature_length=16, shock_range=(15, 20), shock_static_bump=10, sample_score=0.4\n",
      " - Shocked detection rate: 100.00%\n",
      " - False positive rate: 6.16%\n",
      "\n",
      "Testing combination: n_trees=12, height=8, window_size=125, feature_length=16, shock_range=(15, 20), shock_static_bump=10, sample_score=0.5\n"
     ]
    },
    {
     "ename": "KeyboardInterrupt",
     "evalue": "",
     "output_type": "error",
     "traceback": [
      "\u001b[0;31m---------------------------------------------------------------------------\u001b[0m",
      "\u001b[0;31mKeyboardInterrupt\u001b[0m                         Traceback (most recent call last)",
      "Cell \u001b[0;32mIn[15], line 51\u001b[0m\n\u001b[1;32m     49\u001b[0m operation \u001b[38;5;241m=\u001b[39m span[\u001b[38;5;124m\"\u001b[39m\u001b[38;5;124mname\u001b[39m\u001b[38;5;124m\"\u001b[39m]\n\u001b[1;32m     50\u001b[0m record \u001b[38;5;241m=\u001b[39m featurize(service, operation)\n\u001b[0;32m---> 51\u001b[0m duration \u001b[38;5;241m=\u001b[39m \u001b[43mspan\u001b[49m\u001b[43m[\u001b[49m\u001b[38;5;124;43m\"\u001b[39;49m\u001b[38;5;124;43mduration\u001b[39;49m\u001b[38;5;124;43m\"\u001b[39;49m\u001b[43m]\u001b[49m\n\u001b[1;32m     52\u001b[0m record[\u001b[38;5;124m\"\u001b[39m\u001b[38;5;124mdur\u001b[39m\u001b[38;5;124m\"\u001b[39m] \u001b[38;5;241m=\u001b[39m normalize_duration(duration, max_duration)\n\u001b[1;32m     53\u001b[0m hst\u001b[38;5;241m.\u001b[39mlearn_one(record)\n",
      "File \u001b[0;32m~/projects/cs598-project/scale/scale/sampler/.venv/lib/python3.12/site-packages/pandas/core/series.py:1095\u001b[0m, in \u001b[0;36mSeries.__getitem__\u001b[0;34m(self, key)\u001b[0m\n\u001b[1;32m   1092\u001b[0m     out\u001b[38;5;241m.\u001b[39m_name \u001b[38;5;241m=\u001b[39m \u001b[38;5;28mself\u001b[39m\u001b[38;5;241m.\u001b[39m_name\n\u001b[1;32m   1093\u001b[0m     \u001b[38;5;28;01mreturn\u001b[39;00m out\u001b[38;5;241m.\u001b[39m__finalize__(\u001b[38;5;28mself\u001b[39m)\n\u001b[0;32m-> 1095\u001b[0m \u001b[38;5;28;01mdef\u001b[39;00m \u001b[38;5;21m__getitem__\u001b[39m(\u001b[38;5;28mself\u001b[39m, key):\n\u001b[1;32m   1096\u001b[0m     check_dict_or_set_indexers(key)\n\u001b[1;32m   1097\u001b[0m     key \u001b[38;5;241m=\u001b[39m com\u001b[38;5;241m.\u001b[39mapply_if_callable(key, \u001b[38;5;28mself\u001b[39m)\n",
      "\u001b[0;31mKeyboardInterrupt\u001b[0m: "
     ]
    }
   ],
   "source": [
    "## Parameter Tuning Through Grid Search\n",
    "\n",
    "import itertools\n",
    "\n",
    "# Define the ranges for each parameter you want to tune\n",
    "n_trees_values = [12, 16, 32]            # Example values for number of trees\n",
    "height_values = [8, 10, 12]              # Example values for height of each tree\n",
    "window_size_values = [125, 175, 250]     # Example values for window size\n",
    "feature_length_values = [16, 32, 64]     # Example values for hashing operation\n",
    "shock_range_values = [(8, 10), (10, 15), (15,20)]  # Example ranges for shock factor\n",
    "shock_static_bump_values = [5, 10, 15]   # Example static bump values for shocked durations\n",
    "sample_score_values = [0.4, 0.5, 0.6]   # Example anomaly score thresholds\n",
    "\n",
    "# Keep track of the best parameter combination and performance\n",
    "best_params = None\n",
    "best_shock_detection_rate = 0\n",
    "best_false_positive_rate = 100\n",
    "desired_detection_rate = 100.0  # We want 100% detection of shocked spans\n",
    "desired_false_positive_rate = 1.0  # We want less than 1% false positives\n",
    "\n",
    "# Iterate over each combination of parameter values\n",
    "for n_trees, height, window_size, feature_length, shock_range_val, shock_static_bump_val, sample_score_val in itertools.product(\n",
    "    n_trees_values,\n",
    "    height_values,\n",
    "    window_size_values,\n",
    "    feature_length_values,\n",
    "    shock_range_values,\n",
    "    shock_static_bump_values,\n",
    "    sample_score_values\n",
    "):\n",
    "    # Print the parameter combination being tested\n",
    "    print(f\"Testing combination: n_trees={n_trees}, height={height}, window_size={window_size}, \"\n",
    "          f\"feature_length={feature_length}, shock_range={shock_range_val}, shock_static_bump={shock_static_bump_val}, \"\n",
    "          f\"sample_score={sample_score_val}\")\n",
    "\n",
    "    # Reinitialize and retrain the model with the current parameter combination\n",
    "    # Prepare the model with the current parameters\n",
    "    hst = anomaly.HalfSpaceTrees(\n",
    "        n_trees=n_trees,\n",
    "        height=height,\n",
    "        window_size=window_size,\n",
    "        seed=895,\n",
    "        limits={\"dur\": (0, max_duration)}\n",
    "    )\n",
    "    \n",
    "    # Train the model on the training set\n",
    "    for _, span in train_df.iterrows():\n",
    "        service = span[\"service_name\"]\n",
    "        operation = span[\"name\"]\n",
    "        record = featurize(service, operation)\n",
    "        duration = span[\"duration\"]\n",
    "        record[\"dur\"] = normalize_duration(duration, max_duration)\n",
    "        hst.learn_one(record)\n",
    "\n",
    "    # Evaluate on shocked test set\n",
    "    shocked_scores = []\n",
    "    for _, span in shock_test_df.iterrows():\n",
    "        service = span[\"service_name\"]\n",
    "        operation = span[\"name\"]\n",
    "        record = featurize(service, operation)\n",
    "        # Apply shock factor to duration\n",
    "        shock_factor = randrange(*shock_range_val)\n",
    "        duration = (span[\"duration\"] + shock_static_bump_val) * shock_factor\n",
    "        record[\"dur\"] = normalize_duration(duration, max_duration)\n",
    "        score = hst.score_one(record)\n",
    "        shocked_scores.append(score)\n",
    "\n",
    "    shock_hits = [score for score in shocked_scores if score >= sample_score_val]\n",
    "    shock_detection_rate = 100 * len(shock_hits) / len(shock_test_df)\n",
    "    \n",
    "    # Evaluate on control set\n",
    "    control_scores = []\n",
    "    for _, span in control_df.iterrows():\n",
    "        service = span[\"service_name\"]\n",
    "        operation = span[\"name\"]\n",
    "        record = featurize(service, operation)\n",
    "        duration = span[\"duration\"]\n",
    "        record[\"dur\"] = normalize_duration(duration, max_duration)\n",
    "        score = hst.score_one(record)\n",
    "        control_scores.append(score)\n",
    "\n",
    "    false_positives = [score for score in control_scores if score >= sample_score_val]\n",
    "    false_positive_rate = 100 * len(false_positives) / len(control_df)\n",
    "\n",
    "    # Print the performance for this parameter combination\n",
    "    print(f\" - Shocked detection rate: {shock_detection_rate:.2f}%\")\n",
    "    print(f\" - False positive rate: {false_positive_rate:.2f}%\\n\")\n",
    "\n",
    "    # Check if this combination meets desired criteria and update best parameters if needed\n",
    "    if shock_detection_rate >= best_shock_detection_rate and false_positive_rate < best_false_positive_rate:\n",
    "        best_params = {\n",
    "            \"n_trees\": n_trees,\n",
    "            \"height\": height,\n",
    "            \"window_size\": window_size,\n",
    "            \"feature_length\": feature_length,\n",
    "            \"shock_range\": shock_range_val,\n",
    "            \"shock_static_bump\": shock_static_bump_val,\n",
    "            \"sample_score\": sample_score_val,\n",
    "            \"shock_detection_rate\": shock_detection_rate,\n",
    "            \"false_positive_rate\": false_positive_rate,\n",
    "        }\n",
    "        best_shock_detection_rate = shock_detection_rate\n",
    "        best_false_positive_rate = false_positive_rate\n",
    "\n",
    "    # Early stopping if the desired criteria are met exactly\n",
    "    if shock_detection_rate == desired_detection_rate and false_positive_rate <= desired_false_positive_rate:\n",
    "        break\n",
    "\n",
    "# After testing all combinations, print the best parameters found\n",
    "if best_params is not None:\n",
    "    print(\"### Best Parameter Combination Found ###\")\n",
    "    for key, value in best_params.items():\n",
    "        print(f\"{key}: {value}\")\n",
    "else:\n",
    "    print(\"No parameter combination was found that meets the desired criteria.\")\n"
   ]
  },
  {
   "cell_type": "markdown",
   "metadata": {},
   "source": [
    "---\n",
    "\n",
    "## Score Distribution for Shocked and Unshocked Spans"
   ]
  },
  {
   "cell_type": "code",
   "execution_count": null,
   "metadata": {},
   "outputs": [
    {
     "data": {
      "image/png": "[encoded data removed]",
      "text/plain": [
       "<Figure size 1000x600 with 1 Axes>"
      ]
     },
     "metadata": {},
     "output_type": "display_data"
    }
   ],
   "source": [
    "import seaborn as sns\n",
    "import matplotlib.pyplot as plt\n",
    "\n",
    "plt.figure(figsize=(10, 6))\n",
    "sns.histplot(results_df[results_df[\"label\"] == 1][\"score\"], color='red', label='Shocked', kde=True, stat='density', bins=30)\n",
    "sns.histplot(results_df[results_df[\"label\"] == 0][\"score\"], color='blue', label='Unshocked', kde=True, stat='density', bins=30)\n",
    "plt.xlabel('Anomaly Score')\n",
    "plt.title('Score Distribution for Shocked and Unshocked Spans')\n",
    "plt.legend()\n",
    "plt.show()\n",
    "\n"
   ]
  },
  {
   "cell_type": "markdown",
   "metadata": {},
   "source": [
    "Precision-Recall\n",
    "\n"
   ]
  },
  {
   "cell_type": "markdown",
   "metadata": {},
   "source": [
    "## Precision-Recall Curve\n",
    "\n",
    "Shows how well our model can detect anomalies versus normal behavior at different thresholds\n",
    "\n",
    "\n",
    "Precision = TP / (TP + FP)\n",
    "\n",
    "Recall = TP / (TP + FN)\n"
   ]
  },
  {
   "cell_type": "code",
   "execution_count": null,
   "metadata": {},
   "outputs": [
    {
     "data": {
      "image/png": "[encoded data removed]",
      "text/plain": [
       "<Figure size 1000x600 with 1 Axes>"
      ]
     },
     "metadata": {},
     "output_type": "display_data"
    }
   ],
   "source": [
    "from sklearn.metrics import precision_recall_curve\n",
    "import matplotlib.pyplot as plt\n",
    "\n",
    "# Calculate precision and recall for different thresholds\n",
    "precision, recall, thresholds = precision_recall_curve(results_df[\"label\"], results_df[\"score\"])\n",
    "\n",
    "precision = precision[1:-1]\n",
    "recall = recall[1:-1]\n",
    "\n",
    "plt.figure(figsize=(10, 6))\n",
    "plt.plot(recall, precision, color='blue', linewidth=2, label='Precision-Recall Curve')\n",
    "plt.xlabel('Recall')\n",
    "plt.ylabel('Precision')\n",
    "plt.title('Precision-Recall Curve')\n",
    "plt.legend(loc='upper right')\n",
    "plt.grid(True, linestyle='--', alpha=0.6)\n",
    "plt.xlim([0, 1])\n",
    "plt.ylim([0, 1])\n",
    "plt.show()\n",
    "\n"
   ]
  },
  {
   "cell_type": "markdown",
   "metadata": {},
   "source": [
    "## Confusion Matrix Plot\n",
    "\n",
    "True Negatives (top-left)\n",
    "\n",
    "False Positives (top-right)\n",
    "\n",
    "False Negatives (bottom-left)\n",
    "\n",
    "True Positives (bottom-right)\n"
   ]
  },
  {
   "cell_type": "code",
   "execution_count": null,
   "metadata": {},
   "outputs": [
    {
     "data": {
      "image/png": "[encoded data removed]",
      "text/plain": [
       "<Figure size 640x480 with 2 Axes>"
      ]
     },
     "metadata": {},
     "output_type": "display_data"
    }
   ],
   "source": [
    "from sklearn.metrics import confusion_matrix, ConfusionMatrixDisplay, f1_score\n",
    "import numpy as np\n",
    "\n",
    "f1s = []\n",
    "\n",
    "for thresh in thresholds:\n",
    "    # Generate predictions based on the current threshold and calculate F1 score\n",
    "    predictions = [1 if score >= thresh else 0 for score in results_df[\"score\"]]\n",
    "    f1s.append(f1_score(results_df[\"label\"], predictions))\n",
    "\n",
    "optimal_threshold = thresholds[np.argmax(f1s)]\n",
    "predictions = [1 if score >= optimal_threshold else 0 for score in results_df[\"score\"]]\n",
    "\n",
    "cm = confusion_matrix(results_df[\"label\"], predictions)\n",
    "ConfusionMatrixDisplay(cm, display_labels=[\"Unshocked\", \"Shocked\"]).plot(cmap='Blues')\n",
    "plt.title(f'Confusion Matrix at Optimal Threshold = {optimal_threshold:.2f}')\n",
    "plt.show()\n",
    "\n"
   ]
  }
 ],
 "metadata": {
  "kernelspec": {
   "display_name": ".venv",
   "language": "python",
   "name": "python3"
  },
  "language_info": {
   "codemirror_mode": {
    "name": "ipython",
    "version": 3
   },
   "file_extension": ".py",
   "mimetype": "text/x-python",
   "name": "python",
   "nbconvert_exporter": "python",
   "pygments_lexer": "ipython3",
   "version": "3.12.3"
  }
 },
 "nbformat": 4,
 "nbformat_minor": 2
}

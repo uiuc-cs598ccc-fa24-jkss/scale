{
 "cells": [
  {
   "cell_type": "markdown",
   "metadata": {},
   "source": [
    "# Helm Charts\n",
    "\n",
    "## Overview\n",
    "\n",
    "Helm is a package manager for Kubernetes that simplifies the deployment and management of applications. It allows you to define, install, and upgrade Kubernetes applications through reusable YAML templates. Helm provides the ability to manage application charts, which are collections of pre-configured Kubernetes resources.\n",
    "\n",
    "### Benefits of Using Helm\n",
    "\n",
    "- **Simplified Deployment**: Helm charts encapsulate all necessary Kubernetes configurations for your application, making it easy to deploy with a single command.\n",
    "- **Reusability**: Helm charts can be reused and shared across multiple projects or teams, allowing for consistent application deployment.\n",
    "- **Version Control**: Helm supports versioned charts, making it easy to roll back to previous versions or update applications.\n",
    "- **Parameterization**: Helm charts can be customized using values files or command-line parameters, allowing for flexible application deployments in different environments.\n",
    "\n",
    "### Install `helm`\n",
    "\n",
    "See [Installing Helm](https://helm.sh/docs/intro/install/)\n",
    "\n",
    "---"
   ]
  },
  {
   "cell_type": "markdown",
   "metadata": {},
   "source": [
    "## Basic Helm Commands\n",
    "\n",
    "### 1. Install a Chart\n",
    "\n",
    "To install a chart into your Kubernetes cluster:\n",
    "\n",
    "```bash\n",
    "helm install [release] [chart] [flags]\n",
    "```\n",
    "\n",
    "Example: \n",
    "\n",
    "- Installing the `tlm` chart into a namespace\n",
    "\n",
    "```bash\n",
    "helm install tlm ./tlm --namespace cash-flow\n",
    "```\n"
   ]
  },
  {
   "cell_type": "code",
   "execution_count": 50,
   "metadata": {
    "vscode": {
     "languageId": "shellscript"
    }
   },
   "outputs": [
    {
     "name": "stdout",
     "output_type": "stream",
     "text": [
      "NAME: tlm\n",
      "LAST DEPLOYED: Mon Oct 14 20:58:49 2024\n",
      "NAMESPACE: cash-flow\n",
      "STATUS: deployed\n",
      "REVISION: 1\n",
      "TEST SUITE: None\n",
      "-----------------------------------\n",
      "NAME                             READY   STATUS              RESTARTS   AGE\n",
      "auth-5fd84d4f95-rxlwb            1/1     Running             0          2d23h\n",
      "celery-worker-7c98bc497f-5clrd   1/1     Running             0          2d23h\n",
      "dms-57946db4f6-bz56h             1/1     Running             0          2d23h\n",
      "redis-6664db5d7c-5rnc4           1/1     Running             0          2d23h\n",
      "registration-677864c8bf-855nq    1/1     Running             0          2d23h\n",
      "tasking-5c96756555-hkgnt         1/1     Running             0          2d23h\n",
      "tlm-service-6c694ddc7c-zb8fv     0/1     ContainerCreating   0          0s\n",
      "transaction-647c77f96f-2d2bp     1/1     Running             0          2d23h\n",
      "tx-db-dep-5cb5b7b4d6-fp5r9       1/1     Running             0          2d23h\n",
      "user-db-dep-76f5ff8cc7-xmqqt     1/1     Running             0          2d23h\n"
     ]
    }
   ],
   "source": [
    "%%bash\n",
    "\n",
    "# go to chart directory\n",
    "cd ../../charts\n",
    "helm install tlm ./tlm --namespace cash-flow \n",
    "echo \"-----------------------------------\"\n",
    "\n",
    "kubectl get pods -n cash-flow"
   ]
  },
  {
   "cell_type": "markdown",
   "metadata": {},
   "source": [
    "### 2. Unstall a Release\n",
    "\n",
    "To uninstall (delete) a release:\n",
    "\n",
    "```bash\n",
    "helm uninstall [release] [chart]\n",
    "```\n",
    "\n",
    "Example: \n",
    "\n",
    "- Uninstalling the `tlm` chart\n",
    "\n",
    "```bash\n",
    "helm uninstall tlm \n",
    "```\n",
    "\n",
    "Or uninstall from a namespace\n",
    "\n",
    "```bash\n",
    "helm uninstall tlm --namespace cash-flow\n",
    "```"
   ]
  },
  {
   "cell_type": "code",
   "execution_count": 51,
   "metadata": {
    "vscode": {
     "languageId": "shellscript"
    }
   },
   "outputs": [
    {
     "name": "stdout",
     "output_type": "stream",
     "text": [
      "release \"tlm\" uninstalled\n"
     ]
    }
   ],
   "source": [
    "%%bash\n",
    "helm uninstall tlm --namespace cash-flow"
   ]
  },
  {
   "cell_type": "markdown",
   "metadata": {},
   "source": [
    "### 3. Upgrade a Release\n",
    "\n",
    "To upgrade an existing release\n",
    "\n",
    "Example:\n",
    "\n",
    "```bash\n",
    "helm upgrade tlm\n",
    "```\n"
   ]
  },
  {
   "cell_type": "markdown",
   "metadata": {},
   "source": [
    "### 4. Install or Upgrade a Release (`upgrade --install`)\n",
    "\n",
    "If you want to ensure the Helm installs the release if it doesn't exist, or upgrade it if it does (very useful)\n",
    "\n",
    "```bash\n",
    "helm upgrade --install [release-name] [chart-name]\n",
    "```\n",
    "\n",
    "Example: \n",
    "\n",
    "To ensure `tlm` is either upgrade or installed\n",
    "\n",
    "```bash\n",
    "helm upgrade --install tlm ./tlm\n",
    "```\n",
    "\n",
    "Or in a namespace\n",
    "\n",
    "```bash\n",
    "helm upgrade --install tlm ./tlm --namespace cash-flow\n",
    "```"
   ]
  },
  {
   "cell_type": "code",
   "execution_count": 52,
   "metadata": {
    "vscode": {
     "languageId": "shellscript"
    }
   },
   "outputs": [
    {
     "name": "stdout",
     "output_type": "stream",
     "text": [
      "Release \"tlm\" does not exist. Installing it now.\n",
      "NAME: tlm\n",
      "LAST DEPLOYED: Mon Oct 14 20:58:50 2024\n",
      "NAMESPACE: cash-flow\n",
      "STATUS: deployed\n",
      "REVISION: 1\n",
      "TEST SUITE: None\n"
     ]
    }
   ],
   "source": [
    "%%bash\n",
    "\n",
    "# go to chart directory\n",
    "cd ../../charts\n",
    "\n",
    "helm upgrade --install tlm ./tlm --namespace cash-flow"
   ]
  },
  {
   "cell_type": "markdown",
   "metadata": {},
   "source": [
    "Verify the installation"
   ]
  },
  {
   "cell_type": "code",
   "execution_count": 53,
   "metadata": {
    "vscode": {
     "languageId": "shellscript"
    }
   },
   "outputs": [
    {
     "name": "stdout",
     "output_type": "stream",
     "text": [
      "NAME                             READY   STATUS              RESTARTS   AGE\n",
      "auth-5fd84d4f95-rxlwb            1/1     Running             0          2d23h\n",
      "celery-worker-7c98bc497f-5clrd   1/1     Running             0          2d23h\n",
      "dms-57946db4f6-bz56h             1/1     Running             0          2d23h\n",
      "redis-6664db5d7c-5rnc4           1/1     Running             0          2d23h\n",
      "registration-677864c8bf-855nq    1/1     Running             0          2d23h\n",
      "tasking-5c96756555-hkgnt         1/1     Running             0          2d23h\n",
      "tlm-service-6c694ddc7c-zb8fv     0/1     Terminating         0          2s\n",
      "tlm-service-6c694ddc7c-zl5tj     0/1     ContainerCreating   0          0s\n",
      "transaction-647c77f96f-2d2bp     1/1     Running             0          2d23h\n",
      "tx-db-dep-5cb5b7b4d6-fp5r9       1/1     Running             0          2d23h\n",
      "user-db-dep-76f5ff8cc7-xmqqt     1/1     Running             0          2d23h\n"
     ]
    }
   ],
   "source": [
    "%%bash\n",
    "\n",
    "kubectl get pods -n cash-flow"
   ]
  },
  {
   "cell_type": "markdown",
   "metadata": {},
   "source": [
    "### 5. List Installed Releases\n",
    "\n",
    "To list all installed Helm releases:\n",
    "\n",
    "```bash\n",
    "helm list\n",
    "```\n",
    "\n",
    "Or for a specific namespace\n",
    "\n",
    "```bash\n",
    "helm list --namespace cash-flow\n",
    "```"
   ]
  },
  {
   "cell_type": "code",
   "execution_count": 54,
   "metadata": {
    "vscode": {
     "languageId": "shellscript"
    }
   },
   "outputs": [
    {
     "name": "stdout",
     "output_type": "stream",
     "text": [
      "NAME\tNAMESPACE\tREVISION\tUPDATED                                \tSTATUS  \tCHART            \tAPP VERSION\n",
      "tlm \tcash-flow\t1       \t2024-10-14 20:58:50.812650901 -0600 MDT\tdeployed\ttlm-service-0.1.0\tv1.0.0     \n"
     ]
    }
   ],
   "source": [
    "%%bash\n",
    "\n",
    "# I upgraded to prove a point for the next section\n",
    "\n",
    "helm list --namespace cash-flow"
   ]
  },
  {
   "cell_type": "markdown",
   "metadata": {},
   "source": [
    "### 6. Rollback a Release\n",
    "\n",
    "If you need to rollback to a previous release version:\n",
    "\n",
    "```bash\n",
    "helm rollback [release-name] [revision-number]\n",
    "```\n",
    "\n",
    "Example: \n",
    "\n",
    "```bash\n",
    "helm rollback tlm 1\n",
    "```"
   ]
  },
  {
   "cell_type": "code",
   "execution_count": 55,
   "metadata": {
    "vscode": {
     "languageId": "shellscript"
    }
   },
   "outputs": [
    {
     "name": "stdout",
     "output_type": "stream",
     "text": [
      "Release \"tlm\" has been upgraded. Happy Helming!\n",
      "NAME: tlm\n",
      "LAST DEPLOYED: Mon Oct 14 20:58:52 2024\n",
      "NAMESPACE: cash-flow\n",
      "STATUS: deployed\n",
      "REVISION: 2\n",
      "TEST SUITE: None\n",
      "-----------------------------------\n",
      "NAME\tNAMESPACE\tREVISION\tUPDATED                                \tSTATUS  \tCHART            \tAPP VERSION\n",
      "tlm \tcash-flow\t2       \t2024-10-14 20:58:52.433115178 -0600 MDT\tdeployed\ttlm-service-0.1.0\tv1.0.0     \n",
      "-----------------------------------\n",
      "Rollback was a success! Happy Helming!\n",
      "-----------------------------------\n",
      "NAME\tNAMESPACE\tREVISION\tUPDATED                                \tSTATUS  \tCHART            \tAPP VERSION\n",
      "tlm \tcash-flow\t3       \t2024-10-14 20:58:53.299516722 -0600 MDT\tdeployed\ttlm-service-0.1.0\tv1.0.0     \n"
     ]
    }
   ],
   "source": [
    "%%bash\n",
    "\n",
    "# for the purpose of demonstration\n",
    "cd ../../charts\n",
    "helm upgrade tlm ./tlm --namespace cash-flow\n",
    "echo \"-----------------------------------\"\n",
    "\n",
    "helm list --namespace cash-flow\n",
    "echo \"-----------------------------------\"\n",
    "\n",
    "helm rollback tlm 1 --namespace cash-flow\n",
    "echo \"-----------------------------------\"\n",
    "\n",
    "helm list --namespace cash-flow"
   ]
  },
  {
   "cell_type": "code",
   "execution_count": null,
   "metadata": {
    "vscode": {
     "languageId": "shellscript"
    }
   },
   "outputs": [],
   "source": []
  }
 ],
 "metadata": {
  "kernelspec": {
   "display_name": "cli",
   "language": "python",
   "name": "python3"
  },
  "language_info": {
   "codemirror_mode": {
    "name": "ipython",
    "version": 3
   },
   "file_extension": ".py",
   "mimetype": "text/x-python",
   "name": "python",
   "nbconvert_exporter": "python",
   "pygments_lexer": "ipython3",
   "version": "3.12.3"
  }
 },
 "nbformat": 4,
 "nbformat_minor": 2
}
